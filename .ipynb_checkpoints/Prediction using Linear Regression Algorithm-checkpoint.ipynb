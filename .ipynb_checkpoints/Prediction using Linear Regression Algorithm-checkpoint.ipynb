{
 "cells": [
  {
   "cell_type": "code",
   "execution_count": 47,
   "id": "2c5f0238",
   "metadata": {},
   "outputs": [],
   "source": [
    "#Importing the Essential Libraries\n",
    "\n",
    "import pandas as pd\n",
    "import matplotlib.pyplot as plt\n",
    "import numpy as np\n",
    "%matplotlib inline"
   ]
  },
  {
   "cell_type": "code",
   "execution_count": 48,
   "id": "c493d74e",
   "metadata": {},
   "outputs": [
    {
     "name": "stdout",
     "output_type": "stream",
     "text": [
      "Data imported from URL successfully\n"
     ]
    },
    {
     "data": {
      "text/html": [
       "<div>\n",
       "<style scoped>\n",
       "    .dataframe tbody tr th:only-of-type {\n",
       "        vertical-align: middle;\n",
       "    }\n",
       "\n",
       "    .dataframe tbody tr th {\n",
       "        vertical-align: top;\n",
       "    }\n",
       "\n",
       "    .dataframe thead th {\n",
       "        text-align: right;\n",
       "    }\n",
       "</style>\n",
       "<table border=\"1\" class=\"dataframe\">\n",
       "  <thead>\n",
       "    <tr style=\"text-align: right;\">\n",
       "      <th></th>\n",
       "      <th>Hours</th>\n",
       "      <th>Scores</th>\n",
       "    </tr>\n",
       "  </thead>\n",
       "  <tbody>\n",
       "    <tr>\n",
       "      <th>0</th>\n",
       "      <td>2.5</td>\n",
       "      <td>21</td>\n",
       "    </tr>\n",
       "    <tr>\n",
       "      <th>1</th>\n",
       "      <td>5.1</td>\n",
       "      <td>47</td>\n",
       "    </tr>\n",
       "    <tr>\n",
       "      <th>2</th>\n",
       "      <td>3.2</td>\n",
       "      <td>27</td>\n",
       "    </tr>\n",
       "    <tr>\n",
       "      <th>3</th>\n",
       "      <td>8.5</td>\n",
       "      <td>75</td>\n",
       "    </tr>\n",
       "    <tr>\n",
       "      <th>4</th>\n",
       "      <td>3.5</td>\n",
       "      <td>30</td>\n",
       "    </tr>\n",
       "    <tr>\n",
       "      <th>5</th>\n",
       "      <td>1.5</td>\n",
       "      <td>20</td>\n",
       "    </tr>\n",
       "    <tr>\n",
       "      <th>6</th>\n",
       "      <td>9.2</td>\n",
       "      <td>88</td>\n",
       "    </tr>\n",
       "    <tr>\n",
       "      <th>7</th>\n",
       "      <td>5.5</td>\n",
       "      <td>60</td>\n",
       "    </tr>\n",
       "    <tr>\n",
       "      <th>8</th>\n",
       "      <td>8.3</td>\n",
       "      <td>81</td>\n",
       "    </tr>\n",
       "    <tr>\n",
       "      <th>9</th>\n",
       "      <td>2.7</td>\n",
       "      <td>25</td>\n",
       "    </tr>\n",
       "  </tbody>\n",
       "</table>\n",
       "</div>"
      ],
      "text/plain": [
       "   Hours  Scores\n",
       "0    2.5      21\n",
       "1    5.1      47\n",
       "2    3.2      27\n",
       "3    8.5      75\n",
       "4    3.5      30\n",
       "5    1.5      20\n",
       "6    9.2      88\n",
       "7    5.5      60\n",
       "8    8.3      81\n",
       "9    2.7      25"
      ]
     },
     "execution_count": 48,
     "metadata": {},
     "output_type": "execute_result"
    }
   ],
   "source": [
    "# Reading the required dataset from remote link\n",
    "\n",
    "url = \"http://bit.ly/w-data\"\n",
    "\n",
    "df = pd.read_csv(url)\n",
    "\n",
    "print(\"Data imported from URL successfully\")\n",
    "\n",
    "df.head(10)"
   ]
  },
  {
   "cell_type": "code",
   "execution_count": 49,
   "id": "77fef76b",
   "metadata": {},
   "outputs": [
    {
     "data": {
      "image/png": "[encoded data removed]",
      "text/plain": [
       "<Figure size 432x288 with 1 Axes>"
      ]
     },
     "metadata": {
      "needs_background": "light"
     },
     "output_type": "display_data"
    }
   ],
   "source": [
    "# lets plot our data points into 2D graph\n",
    "\n",
    "# plt.plot(df['Hours'], df['Scores'])\n",
    "\n",
    "df.plot( x = 'Hours', y = 'Scores', style = 'o')\n",
    "\n",
    "plt.title(\" Hours spent for studying and Average Score\")\n",
    "plt.xlabel(\"Hours\")\n",
    "plt.ylabel(\"Scores\")\n",
    "plt.show()"
   ]
  },
  {
   "cell_type": "markdown",
   "id": "4819be36",
   "metadata": {},
   "source": [
    "### From the above visualization , it's cleared as the linear relationship of the 2d data is strong in nature"
   ]
  },
  {
   "cell_type": "markdown",
   "id": "c207c4dc",
   "metadata": {},
   "source": [
    "## Preparing Data"
   ]
  },
  {
   "cell_type": "markdown",
   "id": "5fb56ed8",
   "metadata": {},
   "source": [
    "### Now we divide the data into attributes (inputs) (O_var) and label(dependent,target) (outputs)"
   ]
  },
  {
   "cell_type": "code",
   "execution_count": 56,
   "id": "cbd5ce10",
   "metadata": {},
   "outputs": [],
   "source": [
    "x = df.iloc[:,:-1].values\n",
    "y = df.iloc[:, 1].values"
   ]
  },
  {
   "cell_type": "markdown",
   "id": "a6da5969",
   "metadata": {},
   "source": [
    "Now we segregated attributes and labels"
   ]
  },
  {
   "cell_type": "markdown",
   "id": "5356433c",
   "metadata": {},
   "source": [
    "Next important step to split data into training data and test data "
   ]
  },
  {
   "cell_type": "code",
   "execution_count": 58,
   "id": "c5b74c76",
   "metadata": {},
   "outputs": [],
   "source": [
    "# using scikit learn library fn\n",
    "\n",
    "from sklearn.model_selection import train_test_split"
   ]
  },
  {
   "cell_type": "code",
   "execution_count": 59,
   "id": "4434719b",
   "metadata": {},
   "outputs": [],
   "source": [
    "x_train, x_test ,y_train , y_test = train_test_split(x,y,\n",
    "                                                    test_size=0.2, random_state= 1)"
   ]
  },
  {
   "cell_type": "markdown",
   "id": "e92f8f4d",
   "metadata": {},
   "source": [
    "# Training The Algorithm "
   ]
  },
  {
   "cell_type": "markdown",
   "id": "ca866c09",
   "metadata": {},
   "source": [
    "Time TO Train Our Algorithm"
   ]
  },
  {
   "cell_type": "code",
   "execution_count": 62,
   "id": "19c803ea",
   "metadata": {},
   "outputs": [
    {
     "name": "stdout",
     "output_type": "stream",
     "text": [
      " Training Complete\n"
     ]
    }
   ],
   "source": [
    "from sklearn.linear_model import LinearRegression\n",
    "\n",
    "linearReg = LinearRegression()\n",
    "\n",
    "linearReg.fit(x_train,y_train)\n",
    "\n",
    "print(\" Training Complete\")"
   ]
  },
  {
   "cell_type": "code",
   "execution_count": 64,
   "id": "15b5832a",
   "metadata": {},
   "outputs": [
    {
     "data": {
      "image/png": "[encoded data removed]",
      "text/plain": [
       "<Figure size 432x288 with 1 Axes>"
      ]
     },
     "metadata": {
      "needs_background": "light"
     },
     "output_type": "display_data"
    }
   ],
   "source": [
    "#plotting regression line\n",
    "\n",
    "line = linearReg.coef_*x + linearReg.intercept_\n",
    "\n",
    "plt.scatter(x,y)\n",
    "plt.plot(x,line)\n",
    "\n",
    "plt.show()\n"
   ]
  },
  {
   "cell_type": "markdown",
   "id": "54f7f280",
   "metadata": {},
   "source": [
    "## MAKING PREDICTION"
   ]
  },
  {
   "cell_type": "markdown",
   "id": "caa9d6e7",
   "metadata": {},
   "source": [
    "Now we have trained algorthim\n"
   ]
  },
  {
   "cell_type": "code",
   "execution_count": 68,
   "id": "d3db1dd4",
   "metadata": {},
   "outputs": [
    {
     "name": "stdout",
     "output_type": "stream",
     "text": [
      "[[1.1]\n",
      " [3.3]\n",
      " [1.9]\n",
      " [8.5]\n",
      " [4.8]]\n"
     ]
    }
   ],
   "source": [
    "print(x_test)\n",
    "\n",
    "y_pred = linearReg.predict(x_test) # Predicting Scores"
   ]
  },
  {
   "cell_type": "code",
   "execution_count": 70,
   "id": "c71b7787",
   "metadata": {},
   "outputs": [
    {
     "data": {
      "text/html": [
       "<div>\n",
       "<style scoped>\n",
       "    .dataframe tbody tr th:only-of-type {\n",
       "        vertical-align: middle;\n",
       "    }\n",
       "\n",
       "    .dataframe tbody tr th {\n",
       "        vertical-align: top;\n",
       "    }\n",
       "\n",
       "    .dataframe thead th {\n",
       "        text-align: right;\n",
       "    }\n",
       "</style>\n",
       "<table border=\"1\" class=\"dataframe\">\n",
       "  <thead>\n",
       "    <tr style=\"text-align: right;\">\n",
       "      <th></th>\n",
       "      <th>Actual</th>\n",
       "      <th>Predicted</th>\n",
       "    </tr>\n",
       "  </thead>\n",
       "  <tbody>\n",
       "    <tr>\n",
       "      <th>0</th>\n",
       "      <td>17</td>\n",
       "      <td>9.970262</td>\n",
       "    </tr>\n",
       "    <tr>\n",
       "      <th>1</th>\n",
       "      <td>42</td>\n",
       "      <td>32.984700</td>\n",
       "    </tr>\n",
       "    <tr>\n",
       "      <th>2</th>\n",
       "      <td>24</td>\n",
       "      <td>18.339148</td>\n",
       "    </tr>\n",
       "    <tr>\n",
       "      <th>3</th>\n",
       "      <td>75</td>\n",
       "      <td>87.382463</td>\n",
       "    </tr>\n",
       "    <tr>\n",
       "      <th>4</th>\n",
       "      <td>54</td>\n",
       "      <td>48.676362</td>\n",
       "    </tr>\n",
       "  </tbody>\n",
       "</table>\n",
       "</div>"
      ],
      "text/plain": [
       "   Actual  Predicted\n",
       "0      17   9.970262\n",
       "1      42  32.984700\n",
       "2      24  18.339148\n",
       "3      75  87.382463\n",
       "4      54  48.676362"
      ]
     },
     "execution_count": 70,
     "metadata": {},
     "output_type": "execute_result"
    }
   ],
   "source": [
    "#COmparing Actual And Predited one\n",
    "\n",
    "pd_df = pd.DataFrame({'Actual' : y_test, 'Predicted' : y_pred})\n",
    "                      \n",
    "pd_df"
   ]
  },
  {
   "cell_type": "code",
   "execution_count": 80,
   "id": "2fadb052",
   "metadata": {},
   "outputs": [
    {
     "name": "stdout",
     "output_type": "stream",
     "text": [
      "No of hours : [[9.25]]\n",
      "Predicted Score for 9.5 hours is 95.22829438402952\n"
     ]
    }
   ],
   "source": [
    "# Test the required data\n",
    "hours = 9.25\n",
    "hours = np.array(hours).reshape(-1,1)\n",
    "own_prd = linearReg.predict(hours)\n",
    "print(\"No of hours : {}\".format(hours))\n",
    "print(\"Predicted Score for 9.5 hours is {}\".format(own_prd[0]))"
   ]
  },
  {
   "cell_type": "markdown",
   "id": "a2afaa2d",
   "metadata": {},
   "source": [
    "# Evaluating the model & checking the model performance using some metrics\n"
   ]
  },
  {
   "cell_type": "code",
   "execution_count": 81,
   "id": "25d481d1",
   "metadata": {},
   "outputs": [
    {
     "name": "stdout",
     "output_type": "stream",
     "text": [
      "The Model Performance |  mean abs err 7.882398086270432 \n"
     ]
    }
   ],
   "source": [
    "from sklearn import metrics\n",
    "\n",
    "print(\"The Model Performance |  mean abs err {} \".format(metrics.mean_absolute_error(y_test,y_pred)))"
   ]
  },
  {
   "cell_type": "markdown",
   "id": "71efb735",
   "metadata": {},
   "source": [
    "### END"
   ]
  },
  {
   "cell_type": "code",
   "execution_count": null,
   "id": "be879c9c",
   "metadata": {},
   "outputs": [],
   "source": []
  }
 ],
 "metadata": {
  "kernelspec": {
   "display_name": "Python 3 (ipykernel)",
   "language": "python",
   "name": "python3"
  },
  "language_info": {
   "codemirror_mode": {
    "name": "ipython",
    "version": 3
   },
   "file_extension": ".py",
   "mimetype": "text/x-python",
   "name": "python",
   "nbconvert_exporter": "python",
   "pygments_lexer": "ipython3",
   "version": "3.8.11"
  }
 },
 "nbformat": 4,
 "nbformat_minor": 5
}
